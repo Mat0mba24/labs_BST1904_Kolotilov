{
 "cells": [
  {
   "cell_type": "markdown",
   "id": "helpful-cancellation",
   "metadata": {},
   "source": [
    "## Курсовая работа по дициплине СиАОД\n",
    "## Колотилов Даниил Александрович\n",
    "## БСТ1904"
   ]
  },
  {
   "cell_type": "markdown",
   "id": "responsible-franchise",
   "metadata": {},
   "source": [
    "### Задача 1. «Треугольник с максимальным периметром»\n",
    "Массив A состоит из целых положительных чисел ­ длин отрезков. Составьте из трех отрез\u0002ков такой треугольник, чтобы его периметр был максимально возможным. Если невозможно\n",
    "составить треугольник с положительной площадью ­ функция возвращает 0.\n"
   ]
  },
  {
   "cell_type": "code",
   "execution_count": 7,
   "id": "later-abraham",
   "metadata": {},
   "outputs": [
    {
     "name": "stdout",
     "output_type": "stream",
     "text": [
      "Периметр треугольника:  10\n"
     ]
    }
   ],
   "source": [
    "a = [3,2,3,4]\n",
    "a.sort(reverse=True)\n",
    "j = 0\n",
    "while True:\n",
    "    a_1 = a[j]\n",
    "    a_2 = a[j + 1]\n",
    "    try:\n",
    "        if a_1 + a_2 > a[j + 2] and a_2 + a[j + 2] > a_1 and a_1 + a[j + 2] > a_2:\n",
    "            a_3 = a[j + 2]\n",
    "            print(\"Периметр треугольника: \", a_1 + a_2 + a_3)\n",
    "            break\n",
    "    except IndexError:\n",
    "        print(\"Невозможно найти периметр\")\n",
    "        break\n",
    "    j+=1"
   ]
  },
  {
   "cell_type": "markdown",
   "id": "charged-miniature",
   "metadata": {},
   "source": [
    "### Задача 2. «Максимальное число»\n",
    "Дан массив неотрицательных целых чисел nums. Расположите их в таком порядке, чтобы\n",
    "вместе они образовали максимально возможное число.\n"
   ]
  },
  {
   "cell_type": "code",
   "execution_count": 9,
   "id": "measured-scottish",
   "metadata": {},
   "outputs": [
    {
     "name": "stdout",
     "output_type": "stream",
     "text": [
      "9534330\n"
     ]
    }
   ],
   "source": [
    "# Исходный массив\n",
    "nums = [3, 30, 34, 5, 9]\n",
    "# Вычисляем длину максимального элемента\n",
    "max_len = len(str(max(nums)))\n",
    "# Переводим все элементы массива в строковый тип\n",
    "nums = [str(i) for i in nums]\n",
    "# Функция повторяет последнюю цифру, пока число не станет по длине как самое длинное из списка\n",
    "def change_elem(s):\n",
    "    return s + s[-1] * (max_len - len(s))\n",
    "# Отсортированный массив\n",
    "sort_list = sorted(nums, key=change_elem, reverse=True)\n",
    "# Вывод результата\n",
    "print(''.join(sort_list))"
   ]
  },
  {
   "cell_type": "markdown",
   "id": "average-objective",
   "metadata": {},
   "source": [
    "### Задача 3. «Сортировка диагоналей в матрице»\n",
    "Дана матрица mat размером m * n, значения целочисленные. Напишите функцию, сортирующую каждую диагональ матрицы по возрастанию и возвращающую получившуюся матрицу.\n"
   ]
  },
  {
   "cell_type": "code",
   "execution_count": 3,
   "id": "closed-joyce",
   "metadata": {},
   "outputs": [
    {
     "name": "stdout",
     "output_type": "stream",
     "text": [
      "Исходная матрица: \n",
      "[3, 3, 1, 1]\n",
      "[2, 2, 1, 2]\n",
      "[1, 1, 1, 2]\n",
      "Отсортированная матрица: \n",
      "[1, 1, 1, 1]\n",
      "[1, 2, 2, 2]\n",
      "[1, 2, 3, 3]\n"
     ]
    }
   ],
   "source": [
    "# mat = [[3, 3, 1, 1], [2, 2, 1, 2], [1, 1, 1, 2]]\n",
    "# mat = [[11, 25, 66, 1, 69, 7], [23, 55, 17, 45, 15, 52], [75, 31, 36,\n",
    "# 44, 58, 8], [22, 27, 33, 25, 68, 4], [84, 28, 14, 11, 5, 50]]\n",
    "mat = [[3, 3, 1, 1], [2, 2, 1, 2], [1, 1, 1, 2]]\n",
    "# ================================================================================= #\n",
    "print(\"Исходная матрица: \")\n",
    "for row in mat:\n",
    "    print(row)\n",
    "# ================================================================================= #\n",
    "m = len(mat[0])\n",
    "n = len(mat)\n",
    "# ================================================================================= #\n",
    "while True:\n",
    "    c = 0\n",
    "    for i in range(n):\n",
    "        for j in range(m):\n",
    "            try:\n",
    "                if mat[i][j] > mat[i + 1][j + 1]:\n",
    "                    c = 1\n",
    "                    mat[i][j], mat[i + 1][j + 1] = mat[i + 1][j + 1], mat[i][j]\n",
    "            except:\n",
    "                continue\n",
    "    # Если изменений не было, выходим из цикла\n",
    "    if c == 0:\n",
    "        break\n",
    "# ================================================================================= #\n",
    "print(\"Отсортированная матрица: \")\n",
    "for row in mat:\n",
    "    print(row)\n",
    "# ================================================================================= #"
   ]
  },
  {
   "cell_type": "markdown",
   "id": "intense-grace",
   "metadata": {},
   "source": [
    "### Задача 4. «Стопки монет»\n",
    "На столе стоят 3n стопок монет. Вы и ваши друзья Алиса и Боб забираете стопки монет по\n",
    "следующему алгоритму:\n",
    "1. Вы выбираете 3 стопки монет из оставшихся на столе.\n",
    "2. Алиса забирает себе стопку с максимальным количеством монет.\n",
    "3. Вы забираете одну из двух оставшихся стопок.\n",
    "4. Боб забирает последнюю стопку.\n",
    "5. Если еще остались стопки, то действия повторяются с первого шага.\n",
    "\n",
    "Дан массив целых положительных чисел piles. Напишите функцию, возвращающую максимальное число монет, которое вы можете получить."
   ]
  },
  {
   "cell_type": "code",
   "execution_count": 49,
   "id": "minimal-norman",
   "metadata": {},
   "outputs": [
    {
     "name": "stdout",
     "output_type": "stream",
     "text": [
      "[9, 8, 7, 6, 5, 4, 3, 2, 1]\n",
      "18\n"
     ]
    }
   ],
   "source": [
    "# Стопки\n",
    "# Необходимо выбирать 3 кучи таким образом, что две кучи максимальные, одна минимальная, Алена забирает максимальную, \n",
    "# мы забираем максимальную и последняя уходит Антону и так пока все кучи не кончатся.\n",
    "# piles = [9, 8, 7, 6, 5, 1, 2, 3, 4] - 18\n",
    "# piles = [2, 4, 5] - 4\n",
    "# piles = [2, 4, 1, 2, 7, 8] - 9\n",
    "def coins(piles):\n",
    "    n = len(piles)\n",
    "    sum_coins = 0\n",
    "    # Сортируем по возрастанию\n",
    "    piles.sort(reverse=True)\n",
    "    print(piles)\n",
    "    for i in range(0, n//3*2, 2):\n",
    "        # Выбираем три стопки\n",
    "        mas = piles[i:i+2]\n",
    "        mas.append(piles.pop())\n",
    "        mas.sort()\n",
    "        # Алиса\n",
    "        mas.pop()\n",
    "        # Мы\n",
    "        sum_coins += mas.pop()\n",
    "        # Боб\n",
    "        mas.pop()\n",
    "    return sum_coins\n",
    "    \n",
    "print(coins([9, 8, 7, 6, 5, 1, 2, 3, 4]))"
   ]
  },
  {
   "cell_type": "markdown",
   "id": "graphic-cedar",
   "metadata": {},
   "source": [
    "### Задача 5. «Объединение отрезков»\n",
    "Дан массив отрезков intervals, в котором intervals[i] = [starti, endi], некоторые отрезки могут пересекаться. Напишите функцию, которая объединяет все пересекающиеся отрезки в один и возвращает новый массив непересекающихся отрезков.\n"
   ]
  },
  {
   "cell_type": "code",
   "execution_count": 54,
   "id": "processed-vegetation",
   "metadata": {},
   "outputs": [
    {
     "name": "stdout",
     "output_type": "stream",
     "text": [
      "[[1, 6], [8, 10], [15, 18]]\n"
     ]
    }
   ],
   "source": [
    "# Здесь принцип похожий на задачу про шары, \n",
    "# если встречается конец отрезка, \n",
    "# который по значению меньше, чем начало следующего отрезка, \n",
    "# то появляется новый, обособелнный от других отрезок и добавляем его в результат\n",
    "# Иначе берем конец следующего отрезка и меняем текущий конец\n",
    "def concate_intervals(intervals):\n",
    "    result = []\n",
    "    intervals.sort()\n",
    "    for interval in intervals:\n",
    "        if result == [] or result[-1][1] < interval[0]:\n",
    "            result.append(interval)\n",
    "        else:\n",
    "            result[-1][1] = max(result[-1][1], interval[1])\n",
    "    return result\n",
    "\n",
    "print(concate_segments([[1,3],[2,6],[8,10],[15,18]]))"
   ]
  },
  {
   "cell_type": "markdown",
   "id": "french-concept",
   "metadata": {},
   "source": [
    "### Задача 6. «Шарики и стрелы»\n",
    "   Некоторые сферические шарики распределены по двухмерному пространству. Для каждого\n",
    "шарика даны x-координаты начала и конца его горизонтального диаметра. Так как пространство\n",
    "двумерно, то y-координаты не имеют значения в данной задаче. Координата xstart всегда меньше\n",
    "xend.\n",
    "   \n",
    "   Стрелу можно выстрелить строго вертикально (вдоль y-оси) из разных точек x-оси. Шарик\n",
    "с координатами xstart и xend уничтожается стрелой, если она была выпущена из такой позиции\n",
    "x, что xstart ⩽ x ⩽ xend. Когда стрела выпущена, она летит в пространстве бесконечное время\n",
    "(уничтожая все шарики на пути).\n",
    "\n",
    "   Дан массив points, где points[i] = [xstart, xend]. Напишите функцию, возвращающую минимальное количество стрел, которые нужно выпустить, чтобы уничтожить все шарики."
   ]
  },
  {
   "cell_type": "code",
   "execution_count": 55,
   "id": "green-charm",
   "metadata": {},
   "outputs": [
    {
     "name": "stdout",
     "output_type": "stream",
     "text": [
      "2\n"
     ]
    }
   ],
   "source": [
    "# Сортируем список шаров по xStart\n",
    "# Если шаров нет, то количество стрел = 0\n",
    "# Берем первый шар из списка и его xEnd, \n",
    "# проверяем шары после этого шара, взяв их xStart, \n",
    "# если xEnd < XStart (след шара), \n",
    "# то появляется новый, обособленный от прошлого шар и добавляется количество стрел\n",
    "def findMinArrowShots(points):\n",
    "        if len(points) == 0:\n",
    "            return 0\n",
    "        points.sort(key = lambda a:a[1])\n",
    "        arrows = 1\n",
    "        curr = points[0]\n",
    "        for balloon in points:\n",
    "            if curr[1] < balloon[0]:\n",
    "                curr = balloon\n",
    "                arrows += 1\n",
    "        return arrows\n",
    "    \n",
    "print(findMinArrowShots([[10,16], [2,8], [1,6], [7,12]]))"
   ]
  },
  {
   "cell_type": "markdown",
   "id": "dried-insurance",
   "metadata": {},
   "source": [
    "### Задача 7. «Битва строк»\n",
    "Даны две строки: s1 и s2 с одинаковым размером, проверьте, может ли\n",
    "некоторая перестановка строки s1 “победить” некоторую перестановку\n",
    "строки s2 или наоборот.\n",
    "Строка x может “победить” строку y (обе имеют размер n), если x[i]> = y\n",
    "[i] (в алфавитном порядке) для всех i от 0 до n-1."
   ]
  },
  {
   "cell_type": "code",
   "execution_count": 23,
   "id": "tribal-accountability",
   "metadata": {},
   "outputs": [
    {
     "name": "stdout",
     "output_type": "stream",
     "text": [
      "aaa aaa\n",
      "True\n"
     ]
    }
   ],
   "source": [
    "def battle_strings(s1, s2):\n",
    "    n = len(s1)\n",
    "    s1 = ''.join(sorted(s1))\n",
    "    s2 = ''.join(sorted(s2))\n",
    "    print(s1, s2)\n",
    "    c = 0\n",
    "    k = 0\n",
    "    for i in range(n):\n",
    "        if s1[i] > s2[i]:\n",
    "            c+=1\n",
    "        elif s1[i] < s2[i]:\n",
    "            k+=1\n",
    "        else:\n",
    "            c+=1\n",
    "            k+=1\n",
    "    if c == n or k == n:\n",
    "        return True\n",
    "    else:\n",
    "        return False\n",
    "    \n",
    "print(battle_strings(\"aaa\", \"aaa\"))"
   ]
  },
  {
   "cell_type": "markdown",
   "id": "statutory-champion",
   "metadata": {},
   "source": [
    "### Задача 8. «Самая длинная палиндромная подстрока»\n",
    "Дана строка s, вернуть самую длинную полиндромную подстроку в s.\n"
   ]
  },
  {
   "cell_type": "code",
   "execution_count": 56,
   "id": "portable-audience",
   "metadata": {},
   "outputs": [
    {
     "name": "stdout",
     "output_type": "stream",
     "text": [
      "aba\n"
     ]
    }
   ],
   "source": [
    "def longest_palindrome(text):\n",
    "    longest = \"\"\n",
    "    for i in range(len(text)):\n",
    "        for j in range(0, i):\n",
    "            chunk = text[j:i + 1]\n",
    "            if chunk == chunk[::-1]:\n",
    "                if len(chunk) >= len(longest):\n",
    "                    longest = chunk\n",
    "    return longest\n",
    "\n",
    "print(longest_palindrome(\"babad\"))"
   ]
  },
  {
   "cell_type": "markdown",
   "id": "atlantic-spanish",
   "metadata": {},
   "source": [
    "### Задача 9. «Конкатенация строк»\n",
    "Вернуть количество отдельных непустых подстрок текста, которые могут\n",
    "быть записаны как конкатенация некоторой строки с самой собой (т.е. она\n",
    "может быть записана, как a + a, где a - некоторая строка)."
   ]
  },
  {
   "cell_type": "code",
   "execution_count": 1,
   "id": "northern-exclusive",
   "metadata": {},
   "outputs": [
    {
     "name": "stdout",
     "output_type": "stream",
     "text": [
      "{'cabcab', 'bcabca', 'abcabc'}\n",
      "3\n"
     ]
    }
   ],
   "source": [
    "def distinctEchoSubstrings(text):\n",
    "        res = set()\n",
    "        n = len(text)\n",
    "        def check(s):\n",
    "            l = len(s)\n",
    "            if l % 2 == 0 and s[:l//2] == s[l//2:]:\n",
    "                return True\n",
    "            return False\n",
    "        for i in range(n):\n",
    "            for j in range(i+1, n+1):\n",
    "                if check(text[i:j]):\n",
    "                    res.add(text[i:j])\n",
    "        print(res)\n",
    "        return len(res)\n",
    "print(distinctEchoSubstrings(\"abcabcabc\"))"
   ]
  },
  {
   "cell_type": "markdown",
   "id": "second-madison",
   "metadata": {},
   "source": [
    "## Вывод\n",
    "Решая данные задачи, я смог закрепить знания, полученные в ходе лабораторных работ и практических занятий."
   ]
  }
 ],
 "metadata": {
  "kernelspec": {
   "display_name": "Python 3",
   "language": "python",
   "name": "python3"
  },
  "language_info": {
   "codemirror_mode": {
    "name": "ipython",
    "version": 3
   },
   "file_extension": ".py",
   "mimetype": "text/x-python",
   "name": "python",
   "nbconvert_exporter": "python",
   "pygments_lexer": "ipython3",
   "version": "3.8.3"
  }
 },
 "nbformat": 4,
 "nbformat_minor": 5
}
