{
 "cells": [
  {
   "cell_type": "markdown",
   "metadata": {},
   "source": [
    "# Лабораторная работа №3. Методы поиска подстроки в строке.\n",
    "## Выполнил студент группы БСТ1904 Колотилов Д.А.\n",
    "\n",
    "## Задание 1\n",
    "\n",
    "Реализовать методы поиска подстроки в строке. Добавить возможность\n",
    "ввода строки и подстроки с клавиатуры. Предусмотреть возможность\n",
    "существования пробела. Реализовать возможность выбора опции\n",
    "чувствительности или нечувствительности к регистру. Оценить время работы\n",
    "каждого алгоритма поиска и сравнить его со временем работы стандартной\n",
    "функции поиска, используемой в выбранном языке программирования.\n",
    "\n",
    "**Алгоритмы:**\n",
    "\n",
    "1. Кнута-Морриса-Пратта\n",
    "2. Упрощенный Бойера-Мура"
   ]
  },
  {
   "cell_type": "markdown",
   "metadata": {},
   "source": [
    "## Алгоритм Кнута-Морриса-Пратта"
   ]
  },
  {
   "cell_type": "code",
   "execution_count": 6,
   "metadata": {},
   "outputs": [],
   "source": [
    "# Префикс функция для исходной строки, где k - длина наибольшего собственного префикса подстроки s[0:i]\n",
    "def prefix(s):\n",
    "    # Массив из нулей, в котором будут находиться длины\n",
    "    p = [0] * len(s)\n",
    "    # Проходим по всей строке и смотрим длины префиксов и суффиксов\n",
    "    for i in range(1, len(s)):\n",
    "        # Берем наибольшую длину\n",
    "        k = p[i - 1]\n",
    "        # Пока длина больше 0 и элементы не равны, будем менять значение длины в меньшую сторону\n",
    "        while k > 0 and s[k] != s[i]:\n",
    "            k = p[k - 1]\n",
    "        # Если элементы равны, то увеличиваем длину\n",
    "        if s[k] == s[i]:\n",
    "            k += 1\n",
    "        # Обновляем значение длины по индексу\n",
    "        p[i] = k\n",
    "    print(p)\n",
    "    return p"
   ]
  },
  {
   "cell_type": "code",
   "execution_count": 7,
   "metadata": {},
   "outputs": [],
   "source": [
    "def KMP(s, w):\n",
    "    # Массив A - массив, в котором будут храниться все места, где есть данный образ\n",
    "    A = []\n",
    "    # Длина префикса\n",
    "    k = 0\n",
    "    # Пропускаем строку через префикс-функцию\n",
    "    p = prefix(s)\n",
    "    # Проходим по длине всей строки и используем алгоритм префикс-функции\n",
    "    for i in range(len(s)):\n",
    "        while k > 0 and s[i] != w[k]:\n",
    "            k = p[k - 1]\n",
    "        if s[i] == w[k]:\n",
    "            k += 1\n",
    "        # Если длина образа совпадает с длиной префикса, то добавляем в массив место, где нашли образ в строке\n",
    "        if k == len(w):\n",
    "            A.append([i - len(w) + 1, i + 1])\n",
    "            k = p[k - 1]\n",
    "\n",
    "    return A"
   ]
  },
  {
   "cell_type": "code",
   "execution_count": 8,
   "metadata": {
    "scrolled": true
   },
   "outputs": [
    {
     "name": "stdout",
     "output_type": "stream",
     "text": [
      "[0, 1, 0, 1, 2, 3, 4, 5, 2, 2, 3, 4, 5, 6, 7, 8, 9, 3]\n",
      "[[0, 5], [3, 8], [8, 13], [11, 16]]\n"
     ]
    }
   ],
   "source": [
    "print(KMP(\"aabaabaaaabaabaaab\", \"aabaa\"))"
   ]
  },
  {
   "cell_type": "markdown",
   "metadata": {},
   "source": [
    "## Упрощенный алгоритм Бойера-Мура"
   ]
  },
  {
   "cell_type": "code",
   "execution_count": 90,
   "metadata": {},
   "outputs": [],
   "source": [
    "# Строит таблицу смещений для образа\n",
    "def preprocess(w):\n",
    "    T = [len(w)] * 256\n",
    "    for i in range(len(w) - 1):\n",
    "        T[ord(w[i])] = len(w) - 1 - i\n",
    "    return T"
   ]
  },
  {
   "cell_type": "code",
   "execution_count": 91,
   "metadata": {},
   "outputs": [],
   "source": [
    "# Алгоритм Бойера-Мура\n",
    "def BM(s, w):\n",
    "    # Массив с местами, где был найден образ\n",
    "    A = []\n",
    "    # Строим таблицу смещений для образа\n",
    "    T = preprocess(w)\n",
    "    # Переменная для пропуска\n",
    "    skip = 0\n",
    "    # Пока длина строки без пропуска больше или равна образцу\n",
    "    while len(s) - skip >= len(w):\n",
    "        # Если данный отрезок равен образцу, то добавляем его в массив\n",
    "        if s[skip:skip + len(w)] == w:\n",
    "            A.append([skip, skip + len(w)])\n",
    "        # Увеличиваем пропуск\n",
    "        skip += T[ord(s[skip + len(w) - 1])]\n",
    "    return A"
   ]
  },
  {
   "cell_type": "code",
   "execution_count": 92,
   "metadata": {},
   "outputs": [
    {
     "name": "stdout",
     "output_type": "stream",
     "text": [
      "[[23, 31]]\n"
     ]
    }
   ],
   "source": [
    "print(BM(\"Hoola-Hoola girls like Hooligans\", \"Hooligan\"))"
   ]
  },
  {
   "cell_type": "markdown",
   "metadata": {},
   "source": [
    "## Поиск подстроки с возможностью игнорирования пробелов и регистра"
   ]
  },
  {
   "cell_type": "code",
   "execution_count": 40,
   "metadata": {},
   "outputs": [],
   "source": [
    "def search(s, w, fn=KMP, ignore_case=True, ignore_space=True):\n",
    "    _s = s\n",
    "    _w = w\n",
    "    if ignore_case:\n",
    "        _s = _s.lower()\n",
    "        _w = _w.lower()\n",
    "    \n",
    "    if ignore_space:\n",
    "        _s = _s.replace(' ', '')\n",
    "        _w = _w.replace(' ', '')\n",
    "\n",
    "    A = fn(_s, _w)\n",
    "\n",
    "    if ignore_space:\n",
    "        nonspace = 0\n",
    "        kmp_without_space = 0\n",
    "        index = 0\n",
    "        while kmp_without_space < len(A) and index < len(s):\n",
    "            if A[kmp_without_space][0] == nonspace:\n",
    "                index_with_space_offsets = index\n",
    "                chars_count = 0\n",
    "                while chars_count < len(_w) and index_with_space_offsets < len(s):\n",
    "                    if s[index_with_space_offsets] != ' ':\n",
    "                        chars_count += 1\n",
    "                    index_with_space_offsets += 1\n",
    "                A[kmp_without_space] = (index, index_with_space_offsets)\n",
    "                kmp_without_space += 1\n",
    "            if s[index] != ' ': nonspace += 1\n",
    "            index += 1\n",
    "    \n",
    "    return A"
   ]
  },
  {
   "cell_type": "code",
   "execution_count": 34,
   "metadata": {},
   "outputs": [
    {
     "name": "stdout",
     "output_type": "stream",
     "text": [
      "[0, 1, 0, 1, 2, 3, 4, 5, 2, 2, 3, 4, 5, 6, 7, 8, 9, 3]\n"
     ]
    },
    {
     "data": {
      "text/plain": [
       "[(0, 5), (3, 8), (8, 13), (11, 16)]"
      ]
     },
     "execution_count": 34,
     "metadata": {},
     "output_type": "execute_result"
    }
   ],
   "source": [
    "search(\"aabaabaaaabaabaaab\", \"aabaa\")"
   ]
  },
  {
   "cell_type": "markdown",
   "metadata": {},
   "source": [
    "## Задание 2 «Пятнашки»"
   ]
  },
  {
   "cell_type": "code",
   "execution_count": 100,
   "metadata": {
    "tags": []
   },
   "outputs": [
    {
     "name": "stdout",
     "output_type": "stream",
     "text": [
      "Первоначальная позиция: \n",
      "   1  2  3  4\n",
      "  5  6  7  8\n",
      " 13  9 11 12\n",
      " 10 14 15  0\n",
      "\n",
      "Оптимальный путь к решению:\n",
      " [15, 14, 10, 13, 9, 10, 14, 15]\n"
     ]
    }
   ],
   "source": [
    "from queue import PriorityQueue\n",
    "\n",
    "N = 4\n",
    "\n",
    "# Движение пятнашек\n",
    "def moves(position):\n",
    "    blank = position.index(0)\n",
    "    i, j = divmod(blank, N)\n",
    "    offsets = []\n",
    "    if i > 0: offsets.append(-N)     # вниз\n",
    "    if i < N - 1: offsets.append(N)  # вверх\n",
    "    if j > 0: offsets.append(-1)     # вправо\n",
    "    if j < N - 1: offsets.append(1)  # влево\n",
    "    for offset in offsets:\n",
    "        swap = blank + offset\n",
    "        yield tuple(position[swap] if x==blank else position[blank] if x==swap else position[x] for x in range(N*N))\n",
    "\n",
    "# Функция для определения есть решение или нет\n",
    "def parity(permutation):\n",
    "    seen, cycles = set(), 0\n",
    "    for i in permutation:\n",
    "        if i not in seen:\n",
    "            cycles += 1\n",
    "            while i not in seen:\n",
    "                seen.add(i)\n",
    "                i = permutation[i]\n",
    "    return (cycles + len(permutation)) % 2\n",
    "\n",
    "# Класс позиции\n",
    "class Position:\n",
    "    # Конструктор класса, который принимает позицию и начальную дистанцию\n",
    "    def __init__(self, position, start_distance):\n",
    "        self.position = position\n",
    "        self.start_distance = start_distance\n",
    "\n",
    "    # Метод, который срабатывает при сравнении (<) объектта с другим объектом\n",
    "    def __lt__(self, other):\n",
    "        return self.start_distance < other.start_distance\n",
    "\n",
    "    # Метод, который срабатывает при использовании объекта как строки\n",
    "    def __str__(self):\n",
    "        return '\\n'.join((N*'{:3}').format(*[i%(N*N) for i in self.position[i:]]) for i in range(0, N*N, N))\n",
    "\n",
    "# Разгадка\n",
    "SOLVED = (1, 2, 3, 4, 5, 6, 7, 8, 9, 10, 11, 12, 13, 14, 15, 0)\n",
    "# Загадка\n",
    "start = [1, 2, 3, 4, 5, 6, 7, 8, 13, 9, 11, 12, 10, 14, 15, 0]\n",
    "\n",
    "# Смотрим, можно ли в данной расстановке найти решение\n",
    "# Если нет, то сообщаем об этом\n",
    "if parity(start) == 0:\n",
    "    print('Нерешаемо')\n",
    "# Иначе ищем этот путь\n",
    "else:\n",
    "    # Кортеж загадки\n",
    "    start = tuple(start)\n",
    "    \n",
    "    # Первоначальная позиция\n",
    "    p = Position(start, 0)\n",
    "    print(\"Первоначальная позиция: \" + \"\\n\", p)\n",
    "    print()\n",
    "    \n",
    "    # 1) Кладем в очередь с приоритетом первоначальную позицию\n",
    "    candidates = PriorityQueue()\n",
    "    candidates.put(p)\n",
    "\n",
    "    # Кортеж посещенных позиций\n",
    "    visited = set([p])\n",
    "\n",
    "    # Откуда пришли\n",
    "    came_from = {p.position: None}\n",
    "    \n",
    "    # Пока решение не найдено\n",
    "    while p.position != SOLVED:\n",
    "        # 2) Извлекаем из очереди позицию с наименьшим приоритетом\n",
    "        p = candidates.get()\n",
    "        # 3) Кладем в очередь все соседние позиции\n",
    "        # 4) Повторяем пункты 2-4 пока в пункте 2 не вытащим конечную позицию\n",
    "        for k in moves(p.position):\n",
    "            if k not in visited:\n",
    "                # В candifates хранятся всевозможные позиции\n",
    "                candidates.put(Position(k, p.start_distance + 1))\n",
    "                came_from[k] = p\n",
    "                visited.add(k)\n",
    "\n",
    "    # path - последовательное решение головоловки (путь)\n",
    "    path = []\n",
    "    # Сохраняем конечную позицию\n",
    "    prev = p\n",
    "    # Идем в обратном порядке и запоминаем очередность хода в path\n",
    "    while p.position != start:\n",
    "        # Запоминаем откуда ход\n",
    "        p = came_from[p.position]\n",
    "        number = p.position[prev.position.index(0)]\n",
    "        path.append(number)\n",
    "        prev = p\n",
    "    path.reverse()\n",
    "\n",
    "    print(\"Оптимальный путь к решению:\" + \"\\n\", path)"
   ]
  },
  {
   "cell_type": "markdown",
   "metadata": {},
   "source": [
    "## Вывод\n",
    "В данной лабораторной работе я изучил методы поиска образа в строке"
   ]
  }
 ],
 "metadata": {
  "kernelspec": {
   "display_name": "Python 3",
   "language": "python",
   "name": "python3"
  },
  "language_info": {
   "codemirror_mode": {
    "name": "ipython",
    "version": 3
   },
   "file_extension": ".py",
   "mimetype": "text/x-python",
   "name": "python",
   "nbconvert_exporter": "python",
   "pygments_lexer": "ipython3",
   "version": "3.8.3"
  }
 },
 "nbformat": 4,
 "nbformat_minor": 2
}
