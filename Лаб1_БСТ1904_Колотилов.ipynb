{
 "cells": [
  {
   "cell_type": "markdown",
   "metadata": {},
   "source": [
    "# Лабораторная работа №1\n",
    "## Выполнил студент БСТ1904 Колотилов Даниил Александрович\n",
    "### Задание №1"
   ]
  },
  {
   "cell_type": "code",
   "execution_count": 1,
   "metadata": {},
   "outputs": [
    {
     "name": "stdout",
     "output_type": "stream",
     "text": [
      "Hello, World!\n"
     ]
    }
   ],
   "source": [
    "print(\"Hello, World!\")"
   ]
  },
  {
   "cell_type": "markdown",
   "metadata": {},
   "source": [
    "### Задание №2"
   ]
  },
  {
   "cell_type": "code",
   "execution_count": 2,
   "metadata": {},
   "outputs": [
    {
     "name": "stdout",
     "output_type": "stream",
     "text": [
      "[[32, 48, 56], [64, 79, 90], [54, 67, 56]]\n"
     ]
    }
   ],
   "source": [
    "from random import randint\n",
    "def random_matrix(m = 50, n = 50, min_limit = -250, max_limit = 1008):\n",
    "    matrix = [[randint(min_limit, max_limit) for j in range(m)] for i in range(n)]\n",
    "    return matrix\n",
    "print(random_matrix(3, 3, 10, 99))"
   ]
  },
  {
   "cell_type": "markdown",
   "metadata": {},
   "source": [
    "### Задание №3(Сортировка выбором)"
   ]
  },
  {
   "cell_type": "code",
   "execution_count": 3,
   "metadata": {},
   "outputs": [
    {
     "name": "stdout",
     "output_type": "stream",
     "text": [
      "Исходная матрица\n",
      "[34, 37, 96]\n",
      "[12, 79, 42]\n",
      "[54, 53, 71]\n",
      "Матрица с отсортированными строками\n",
      "[34, 37, 96]\n",
      "[12, 42, 79]\n",
      "[53, 54, 71]\n",
      "Время работы: 0.0009996891021728516\n"
     ]
    }
   ],
   "source": [
    "import time\n",
    "def selection_sort(matrix):\n",
    "    for row in matrix:\n",
    "        for i in range(len(row)):\n",
    "            min_index = i\n",
    "            for j in range(i + 1, len(row)):\n",
    "                if row[j] < row[min_index]:\n",
    "                    min_index = j\n",
    "            row[i], row[min_index] = row[min_index], row[i]\n",
    "        print(row)\n",
    "start = time.time()\n",
    "matrix = random_matrix(3, 3, 10, 99)\n",
    "print(\"Исходная матрица\")\n",
    "for row in matrix:\n",
    "    print(row)\n",
    "print(\"Матрица с отсортированными строками\")\n",
    "selection_sort(matrix)\n",
    "print(\"Время работы:\", time.time() - start)"
   ]
  },
  {
   "cell_type": "markdown",
   "metadata": {},
   "source": [
    "### Задание №3(Сортировка вставкой)"
   ]
  },
  {
   "cell_type": "code",
   "execution_count": 4,
   "metadata": {},
   "outputs": [
    {
     "name": "stdout",
     "output_type": "stream",
     "text": [
      "Исходная матрица\n",
      "[79, 29, 27]\n",
      "[22, 85, 70]\n",
      "[84, 95, 91]\n",
      "Матрица с отсортированными строками\n",
      "[27, 29, 79]\n",
      "[22, 70, 85]\n",
      "[84, 91, 95]\n",
      "Время работы: 0.0009984970092773438\n"
     ]
    }
   ],
   "source": [
    "def insertion_sort(matrix):  \n",
    "    for row in matrix:\n",
    "        for i in range(1, len(row)):\n",
    "            item_to_insert = row[i]\n",
    "            j = i - 1\n",
    "            while j >= 0 and row[j] > item_to_insert:\n",
    "                row[j + 1] = row[j]\n",
    "                j -= 1\n",
    "            row[j + 1] = item_to_insert\n",
    "        print(row)\n",
    "matrix = random_matrix(3, 3, 10, 99)\n",
    "print(\"Исходная матрица\")\n",
    "for row in matrix:\n",
    "    print(row)\n",
    "print(\"Матрица с отсортированными строками\")\n",
    "start = time.time()\n",
    "insertion_sort(matrix)\n",
    "print(\"Время работы:\", time.time() - start)"
   ]
  },
  {
   "cell_type": "markdown",
   "metadata": {},
   "source": [
    "### Задание №3(Сортировка обменом)"
   ]
  },
  {
   "cell_type": "code",
   "execution_count": 5,
   "metadata": {},
   "outputs": [
    {
     "name": "stdout",
     "output_type": "stream",
     "text": [
      "Исходная матрица\n",
      "[83, 35, 88]\n",
      "[30, 78, 35]\n",
      "[36, 32, 56]\n",
      "Матрица с отсортированными строками\n",
      "[35, 83, 88]\n",
      "[30, 35, 78]\n",
      "[32, 36, 56]\n",
      "Время работы: 0.0010008811950683594\n"
     ]
    }
   ],
   "source": [
    "def bubble_sort(matrix):  \n",
    "    count = 0\n",
    "    for row in matrix:\n",
    "        for run in range(len(row) - 1):\n",
    "            for i in range(len(row) - 1):\n",
    "                if row[i] > row[i + 1]:\n",
    "                    row[i], row[i + 1] = row[i + 1], row[i]\n",
    "        print(row)\n",
    "matrix = random_matrix(3, 3, 10, 99)\n",
    "print(\"Исходная матрица\")\n",
    "for row in matrix:\n",
    "    print(row)\n",
    "print(\"Матрица с отсортированными строками\")\n",
    "start = time.time()\n",
    "bubble_sort(matrix)\n",
    "print(\"Время работы:\", time.time() - start)"
   ]
  },
  {
   "cell_type": "markdown",
   "metadata": {},
   "source": [
    "### Задание №3(Сортировка Шелла)"
   ]
  },
  {
   "cell_type": "code",
   "execution_count": 6,
   "metadata": {},
   "outputs": [
    {
     "name": "stdout",
     "output_type": "stream",
     "text": [
      "Исходная матрица\n",
      "[66, 90, 36]\n",
      "[67, 16, 86]\n",
      "[74, 69, 20]\n",
      "Матрица с отсортированными строками\n",
      "[36, 66, 90]\n",
      "[16, 67, 86]\n",
      "[20, 69, 74]\n",
      "Время работы: 0.0009987354278564453\n"
     ]
    }
   ],
   "source": [
    "def shell_sort(matrix):\n",
    "    for row in matrix:\n",
    "        gap = len(row) // 2\n",
    "        while gap > 0:\n",
    "            for value in range(gap, len(row)):\n",
    "                current_value = row[value]\n",
    "                position = value\n",
    "                while position >= gap and row[position - gap] > current_value:\n",
    "                    row[position] = row[position - gap]\n",
    "                    position -= gap\n",
    "                    row[position] = current_value\n",
    "            gap //= 2\n",
    "        print(row)\n",
    "start = time.time()\n",
    "matrix = random_matrix(3, 3, 10, 99)\n",
    "print(\"Исходная матрица\")\n",
    "for row in matrix:\n",
    "    print(row)\n",
    "print(\"Матрица с отсортированными строками\")\n",
    "shell_sort(matrix)\n",
    "print(\"Время работы:\", time.time() - start)"
   ]
  },
  {
   "cell_type": "markdown",
   "metadata": {},
   "source": [
    "### Задание №3(Сортировка пирамидальная)"
   ]
  },
  {
   "cell_type": "code",
   "execution_count": 7,
   "metadata": {},
   "outputs": [
    {
     "name": "stdout",
     "output_type": "stream",
     "text": [
      "Исходная матрица\n",
      "[74, 72, 90]\n",
      "[31, 34, 83]\n",
      "[40, 27, 43]\n",
      "Матрица с отсортированными строками\n",
      "[72, 74, 90]\n",
      "[31, 34, 83]\n",
      "[27, 40, 43]\n",
      "Время работы: 0.0\n"
     ]
    }
   ],
   "source": [
    "def heapify(nums, heap_size, root_index):  \n",
    "    largest = root_index\n",
    "    left_child = (2 * root_index) + 1\n",
    "    right_child = (2 * root_index) + 2\n",
    "    if left_child < heap_size and nums[left_child] > nums[largest]:\n",
    "        largest = left_child\n",
    "    if right_child < heap_size and nums[right_child] > nums[largest]:\n",
    "        largest = right_child\n",
    "    if largest != root_index:\n",
    "        nums[root_index], nums[largest] = nums[largest], nums[root_index]\n",
    "        heapify(nums, heap_size, largest)\n",
    "\n",
    "def heap_sort(matrix):  \n",
    "    for row in matrix:\n",
    "        n = len(row)\n",
    "        for i in range(n, -1, -1):\n",
    "            heapify(row, n, i)\n",
    "        for i in range(n - 1, 0, -1):\n",
    "            row[i], row[0] = row[0], row[i]\n",
    "            heapify(row, i, 0)\n",
    "        print(row)\n",
    "        \n",
    "\n",
    "matrix = random_matrix(3, 3, 10, 99)\n",
    "print(\"Исходная матрица\")\n",
    "for row in matrix:\n",
    "    print(row)\n",
    "print(\"Матрица с отсортированными строками\")\n",
    "start = time.time()\n",
    "heap_sort(matrix)\n",
    "print(\"Время работы:\", time.time() - start)"
   ]
  },
  {
   "cell_type": "markdown",
   "metadata": {},
   "source": [
    "### Задание №3(Сортировка быстрая)"
   ]
  },
  {
   "cell_type": "code",
   "execution_count": 8,
   "metadata": {},
   "outputs": [
    {
     "name": "stdout",
     "output_type": "stream",
     "text": [
      "Исходная матрица\n",
      "[51, 43, 17]\n",
      "[80, 48, 56]\n",
      "[79, 48, 10]\n",
      "Матрица с отсортированными строками\n",
      "[17, 43, 51]\n",
      "[48, 56, 80]\n",
      "[10, 48, 79]\n",
      "Время работы: 0.0010006427764892578\n"
     ]
    }
   ],
   "source": [
    "def quick_sort(row):\n",
    "    if len(row) <= 1:\n",
    "        return row\n",
    "    elem = row[0]\n",
    "    left = list(filter(lambda x: x < elem, row))\n",
    "    center = [i for i in row if i == elem]\n",
    "    right = list(filter(lambda x: x > elem, row))\n",
    "    return quick_sort(left) + center + quick_sort(right)\n",
    "def quick_sort_matrix(matrix):\n",
    "    for row in matrix:\n",
    "        print(quick_sort(row))\n",
    "matrix = random_matrix(3, 3, 10, 99)\n",
    "print(\"Исходная матрица\")\n",
    "for row in matrix:\n",
    "    print(row)\n",
    "print(\"Матрица с отсортированными строками\")\n",
    "start = time.time()\n",
    "quick_sort_matrix(matrix)\n",
    "print(\"Время работы:\", time.time() - start)"
   ]
  },
  {
   "cell_type": "markdown",
   "metadata": {},
   "source": [
    "## Задание №3(Сортировка турнирная)"
   ]
  },
  {
   "cell_type": "code",
   "execution_count": 9,
   "metadata": {},
   "outputs": [
    {
     "name": "stdout",
     "output_type": "stream",
     "text": [
      "Исходная матрица\n",
      "[77, 15, 26]\n",
      "[19, 97, 56]\n",
      "[98, 23, 69]\n",
      "Матрица с отсортированными строками\n",
      "[15, 26, 77]\n",
      "[19, 56, 97]\n",
      "[23, 69, 98]\n",
      "Время работы: 0.0019986629486083984\n"
     ]
    }
   ],
   "source": [
    "def tournament_sort(arr):\n",
    "    tree = [None] * 2 * (len(arr) + len(arr) % 2)\n",
    "    index = len(tree) - len(arr) - len(arr) % 2\n",
    "    \n",
    "    for i, v in enumerate(arr):\n",
    "        tree[index + i] = (i, v)\n",
    "    \n",
    "    for j in range(len(arr)):\n",
    "        n = len(arr)\n",
    "        index = len(tree) - len(arr) - len(arr) % 2\n",
    "        while index > -1:\n",
    "            n = (n + 1) // 2\n",
    "            for i in range(n):\n",
    "                i = max(index + i * 2, 1) # на последней итерация index + i * 2 = 0\n",
    "                if tree[i] != None and tree[i + 1] != None:\n",
    "                    if tree[i][1] < tree[i + 1][1]:\n",
    "                        tree[i // 2] = tree[i]\n",
    "                    else:\n",
    "                        tree[i // 2] = tree[i + 1]\n",
    "                else:\n",
    "                    tree[i // 2] = tree[i] if tree[i] != None else tree[i + 1]\n",
    "            index -= n\n",
    "\n",
    "        index, x = tree[0]\n",
    "        arr[j] = x\n",
    "        tree[len(tree) - len(arr) - len(arr) % 2 + index] = None\n",
    "\n",
    "matrix = random_matrix(3, 3, 10, 99)\n",
    "print(\"Исходная матрица\")\n",
    "for row in matrix:\n",
    "    print(row)\n",
    "print(\"Матрица с отсортированными строками\")\n",
    "start = time.time()\n",
    "for row in matrix:\n",
    "    tournament_sort(row)\n",
    "    print(row)\n",
    "print(\"Время работы:\", time.time() - start)"
   ]
  },
  {
   "cell_type": "markdown",
   "metadata": {},
   "source": [
    "### Задание №3(Сортировка обыкновенная)"
   ]
  },
  {
   "cell_type": "code",
   "execution_count": 10,
   "metadata": {},
   "outputs": [
    {
     "name": "stdout",
     "output_type": "stream",
     "text": [
      "Исходная матрица\n",
      "[47, 13, 63]\n",
      "[53, 60, 44]\n",
      "[52, 11, 48]\n",
      "Матрица с отсортированными строками\n",
      "[13, 47, 63]\n",
      "[44, 53, 60]\n",
      "[11, 48, 52]\n",
      "Время работы: 0.0\n"
     ]
    }
   ],
   "source": [
    "matrix = random_matrix(3, 3, 10, 99)\n",
    "print(\"Исходная матрица\")\n",
    "for row in matrix:\n",
    "    print(row)\n",
    "print(\"Матрица с отсортированными строками\")\n",
    "start = time.time()\n",
    "for row in matrix:\n",
    "    print(sorted(row))\n",
    "print(\"Время работы:\", time.time() - start)"
   ]
  },
  {
   "cell_type": "code",
   "execution_count": null,
   "metadata": {},
   "outputs": [],
   "source": []
  }
 ],
 "metadata": {
  "kernelspec": {
   "display_name": "Python 3",
   "language": "python",
   "name": "python3"
  },
  "language_info": {
   "codemirror_mode": {
    "name": "ipython",
    "version": 3
   },
   "file_extension": ".py",
   "mimetype": "text/x-python",
   "name": "python",
   "nbconvert_exporter": "python",
   "pygments_lexer": "ipython3",
   "version": "3.8.3"
  }
 },
 "nbformat": 4,
 "nbformat_minor": 4
}
