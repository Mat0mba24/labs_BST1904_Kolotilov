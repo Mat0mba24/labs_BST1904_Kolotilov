{
 "cells": [
  {
   "cell_type": "code",
   "execution_count": 1,
   "metadata": {},
   "outputs": [],
   "source": [
    "# Лабораторная работа №1\n",
    "## Выполнил студент БСТ1904 Колотилов Даниил Александрович\n",
    "### Задание №1"
   ]
  },
  {
   "cell_type": "code",
   "execution_count": 2,
   "metadata": {},
   "outputs": [
    {
     "name": "stdout",
     "output_type": "stream",
     "text": [
      "Hello, World!\n"
     ]
    }
   ],
   "source": [
    "print(\"Hello, World!\")"
   ]
  },
  {
   "cell_type": "code",
   "execution_count": 3,
   "metadata": {},
   "outputs": [],
   "source": [
    "### Задание №2"
   ]
  },
  {
   "cell_type": "code",
   "execution_count": 4,
   "metadata": {},
   "outputs": [
    {
     "name": "stdout",
     "output_type": "stream",
     "text": [
      "[[80, 48, 16], [21, 26, 66], [98, 68, 67]]\n"
     ]
    }
   ],
   "source": [
    "from random import randint\n",
    "def random_matrix(m = 50, n = 50, min_limit = -250, max_limit = 1008):\n",
    "    matrix = [[randint(min_limit, max_limit) for j in range(m)] for i in range(n)]\n",
    "    return matrix\n",
    "print(random_matrix(3, 3, 10, 99))"
   ]
  },
  {
   "cell_type": "code",
   "execution_count": 5,
   "metadata": {},
   "outputs": [],
   "source": [
    "### Задание №3(Сортировка выбором)"
   ]
  },
  {
   "cell_type": "code",
   "execution_count": 6,
   "metadata": {},
   "outputs": [
    {
     "name": "stdout",
     "output_type": "stream",
     "text": [
      "Исходная матрица\n",
      "[67, 42, 61]\n",
      "[18, 67, 87]\n",
      "[91, 80, 92]\n",
      "Матрица с отсортированными строками\n",
      "[42, 61, 67]\n",
      "[18, 67, 87]\n",
      "[80, 91, 92]\n",
      "Время работы: 0.001001596450805664\n"
     ]
    }
   ],
   "source": [
    "import time\n",
    "def selection_sort(matrix):\n",
    "    for row in matrix:\n",
    "        for i in range(len(row)):\n",
    "            min_index = i\n",
    "            for j in range(i + 1, len(row)):\n",
    "                if row[j] < row[min_index]:\n",
    "                    min_index = j\n",
    "            row[i], row[min_index] = row[min_index], row[i]\n",
    "        print(row)\n",
    "start = time.time()\n",
    "matrix = random_matrix(3, 3, 10, 99)\n",
    "print(\"Исходная матрица\")\n",
    "for row in matrix:\n",
    "    print(row)\n",
    "print(\"Матрица с отсортированными строками\")\n",
    "selection_sort(matrix)\n",
    "print(\"Время работы:\", time.time() - start)"
   ]
  },
  {
   "cell_type": "code",
   "execution_count": 7,
   "metadata": {},
   "outputs": [],
   "source": [
    "### Задание №3(Сортировка вставкой)"
   ]
  },
  {
   "cell_type": "code",
   "execution_count": 8,
   "metadata": {},
   "outputs": [
    {
     "name": "stdout",
     "output_type": "stream",
     "text": [
      "Исходная матрица\n",
      "[68, 45, 34]\n",
      "[54, 55, 41]\n",
      "[51, 72, 43]\n",
      "Матрица с отсортированными строками\n",
      "[34, 45, 68]\n",
      "[41, 54, 55]\n",
      "[43, 51, 72]\n",
      "Время работы: 0.0010008811950683594\n"
     ]
    }
   ],
   "source": [
    "def insertion_sort(matrix):  \n",
    "    for row in matrix:\n",
    "        for i in range(1, len(row)):\n",
    "            item_to_insert = row[i]\n",
    "            j = i - 1\n",
    "            while j >= 0 and row[j] > item_to_insert:\n",
    "                row[j + 1] = row[j]\n",
    "                j -= 1\n",
    "            row[j + 1] = item_to_insert\n",
    "        print(row)\n",
    "matrix = random_matrix(3, 3, 10, 99)\n",
    "print(\"Исходная матрица\")\n",
    "for row in matrix:\n",
    "    print(row)\n",
    "print(\"Матрица с отсортированными строками\")\n",
    "start = time.time()\n",
    "insertion_sort(matrix)\n",
    "print(\"Время работы:\", time.time() - start)"
   ]
  },
  {
   "cell_type": "code",
   "execution_count": 9,
   "metadata": {},
   "outputs": [],
   "source": [
    "### Задание №3(Сортировка обменом)"
   ]
  },
  {
   "cell_type": "code",
   "execution_count": 10,
   "metadata": {},
   "outputs": [
    {
     "name": "stdout",
     "output_type": "stream",
     "text": [
      "Исходная матрица\n",
      "[11, 11, 99]\n",
      "[54, 79, 42]\n",
      "[72, 41, 46]\n",
      "Матрица с отсортированными строками\n",
      "[11, 11, 99]\n",
      "[42, 54, 79]\n",
      "[41, 46, 72]\n",
      "Время работы: 0.0\n"
     ]
    }
   ],
   "source": [
    "def bubble_sort(matrix):  \n",
    "    count = 0\n",
    "    for row in matrix:\n",
    "        for run in range(len(row) - 1):\n",
    "            for i in range(len(row) - 1):\n",
    "                if row[i] > row[i + 1]:\n",
    "                    row[i], row[i + 1] = row[i + 1], row[i]\n",
    "        print(row)\n",
    "matrix = random_matrix(3, 3, 10, 99)\n",
    "print(\"Исходная матрица\")\n",
    "for row in matrix:\n",
    "    print(row)\n",
    "print(\"Матрица с отсортированными строками\")\n",
    "start = time.time()\n",
    "bubble_sort(matrix)\n",
    "print(\"Время работы:\", time.time() - start)"
   ]
  },
  {
   "cell_type": "code",
   "execution_count": 11,
   "metadata": {},
   "outputs": [],
   "source": [
    "### Задание №3(Сортировка Шелла)"
   ]
  },
  {
   "cell_type": "code",
   "execution_count": 12,
   "metadata": {},
   "outputs": [
    {
     "name": "stdout",
     "output_type": "stream",
     "text": [
      "Исходная матрица\n",
      "[79, 89, 81]\n",
      "[99, 31, 19]\n",
      "[84, 55, 97]\n",
      "Матрица с отсортированными строками\n",
      "[79, 81, 89]\n",
      "[19, 31, 99]\n",
      "[55, 84, 97]\n",
      "Время работы: 0.002000570297241211\n"
     ]
    }
   ],
   "source": [
    "def shell_sort(matrix):\n",
    "    for row in matrix:\n",
    "        gap = len(row) // 2\n",
    "        while gap > 0:\n",
    "            for value in range(gap, len(row)):\n",
    "                current_value = row[value]\n",
    "                position = value\n",
    "                while position >= gap and row[position - gap] > current_value:\n",
    "                    row[position] = row[position - gap]\n",
    "                    position -= gap\n",
    "                    row[position] = current_value\n",
    "            gap //= 2\n",
    "        print(row)\n",
    "start = time.time()\n",
    "matrix = random_matrix(3, 3, 10, 99)\n",
    "print(\"Исходная матрица\")\n",
    "for row in matrix:\n",
    "    print(row)\n",
    "print(\"Матрица с отсортированными строками\")\n",
    "shell_sort(matrix)\n",
    "print(\"Время работы:\", time.time() - start)"
   ]
  },
  {
   "cell_type": "code",
   "execution_count": 13,
   "metadata": {},
   "outputs": [],
   "source": [
    "### Задание №3(Сортировка пирамидальная)"
   ]
  },
  {
   "cell_type": "code",
   "execution_count": 14,
   "metadata": {},
   "outputs": [
    {
     "name": "stdout",
     "output_type": "stream",
     "text": [
      "Исходная матрица\n",
      "[46, 15, 37]\n",
      "[75, 26, 79]\n",
      "[23, 76, 27]\n",
      "Матрица с отсортированными строками\n",
      "[15, 37, 46]\n",
      "[26, 75, 79]\n",
      "[23, 27, 76]\n",
      "Время работы: 0.0020008087158203125\n"
     ]
    }
   ],
   "source": [
    "def heapify(nums, heap_size, root_index):  \n",
    "    largest = root_index\n",
    "    left_child = (2 * root_index) + 1\n",
    "    right_child = (2 * root_index) + 2\n",
    "    if left_child < heap_size and nums[left_child] > nums[largest]:\n",
    "        largest = left_child\n",
    "    if right_child < heap_size and nums[right_child] > nums[largest]:\n",
    "        largest = right_child\n",
    "    if largest != root_index:\n",
    "        nums[root_index], nums[largest] = nums[largest], nums[root_index]\n",
    "        heapify(nums, heap_size, largest)\n",
    "\n",
    "def heap_sort(matrix):  \n",
    "    for row in matrix:\n",
    "        n = len(row)\n",
    "        for i in range(n, -1, -1):\n",
    "            heapify(row, n, i)\n",
    "        for i in range(n - 1, 0, -1):\n",
    "            row[i], row[0] = row[0], row[i]\n",
    "            heapify(row, i, 0)\n",
    "        print(row)\n",
    "        \n",
    "\n",
    "matrix = random_matrix(3, 3, 10, 99)\n",
    "print(\"Исходная матрица\")\n",
    "for row in matrix:\n",
    "    print(row)\n",
    "print(\"Матрица с отсортированными строками\")\n",
    "start = time.time()\n",
    "heap_sort(matrix)\n",
    "print(\"Время работы:\", time.time() - start)"
   ]
  },
  {
   "cell_type": "code",
   "execution_count": 15,
   "metadata": {},
   "outputs": [],
   "source": [
    "### Задание №3(Сортировка быстрая)"
   ]
  },
  {
   "cell_type": "code",
   "execution_count": 25,
   "metadata": {},
   "outputs": [
    {
     "name": "stdout",
     "output_type": "stream",
     "text": [
      "Исходная матрица\n",
      "[69, 93, 34]\n",
      "[90, 71, 83]\n",
      "[23, 60, 12]\n",
      "Матрица с отсортированными строками\n",
      "[34, 69, 93]\n",
      "[71, 83, 90]\n",
      "[12, 23, 60]\n",
      "Время работы: 0.00099945068359375\n"
     ]
    }
   ],
   "source": [
    "def quick_sort(row):\n",
    "    if len(row) <= 1:\n",
    "        return row\n",
    "    elem = row[0]\n",
    "    left = list(filter(lambda x: x < elem, row))\n",
    "    center = [i for i in row if i == elem]\n",
    "    right = list(filter(lambda x: x > elem, row))\n",
    "    return quick_sort(left) + center + quick_sort(right)\n",
    "def quick_sort_matrix(matrix):\n",
    "    for row in matrix:\n",
    "        print(quick_sort(row))\n",
    "matrix = random_matrix(3, 3, 10, 99)\n",
    "print(\"Исходная матрица\")\n",
    "for row in matrix:\n",
    "    print(row)\n",
    "print(\"Матрица с отсортированными строками\")\n",
    "start = time.time()\n",
    "quick_sort_matrix(matrix)\n",
    "print(\"Время работы:\", time.time() - start)"
   ]
  },
  {
   "cell_type": "code",
   "execution_count": 23,
   "metadata": {},
   "outputs": [],
   "source": [
    "### Задание №3(Сортировка обыкновенная)"
   ]
  },
  {
   "cell_type": "code",
   "execution_count": 31,
   "metadata": {},
   "outputs": [
    {
     "name": "stdout",
     "output_type": "stream",
     "text": [
      "Исходная матрица\n",
      "[98, 33, 36]\n",
      "[38, 91, 41]\n",
      "[93, 47, 82]\n",
      "Матрица с отсортированными строками\n",
      "[33, 36, 98]\n",
      "[38, 41, 91]\n",
      "[47, 82, 93]\n",
      "Время работы: 0.0\n"
     ]
    }
   ],
   "source": [
    "matrix = random_matrix(3, 3, 10, 99)\n",
    "print(\"Исходная матрица\")\n",
    "for row in matrix:\n",
    "    print(row)\n",
    "print(\"Матрица с отсортированными строками\")\n",
    "start = time.time()\n",
    "for row in matrix:\n",
    "    print(sorted(row))\n",
    "print(\"Время работы:\", time.time() - start)"
   ]
  },
  {
   "cell_type": "code",
   "execution_count": null,
   "metadata": {},
   "outputs": [],
   "source": []
  }
 ],
 "metadata": {
  "kernelspec": {
   "display_name": "Python 3",
   "language": "python",
   "name": "python3"
  },
  "language_info": {
   "codemirror_mode": {
    "name": "ipython",
    "version": 3
   },
   "file_extension": ".py",
   "mimetype": "text/x-python",
   "name": "python",
   "nbconvert_exporter": "python",
   "pygments_lexer": "ipython3",
   "version": "3.8.3"
  }
 },
 "nbformat": 4,
 "nbformat_minor": 4
}
