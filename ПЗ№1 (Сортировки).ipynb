{
 "cells": [
  {
   "cell_type": "code",
   "execution_count": 1,
   "id": "modular-retreat",
   "metadata": {},
   "outputs": [],
   "source": [
    "# Контрольные задачи по дисциплине СиАОД №1"
   ]
  },
  {
   "cell_type": "code",
   "execution_count": 2,
   "id": "blocked-prospect",
   "metadata": {},
   "outputs": [],
   "source": [
    "## Задача 1. «Треугольник с максимальным периметром»"
   ]
  },
  {
   "cell_type": "code",
   "execution_count": 3,
   "id": "silent-techno",
   "metadata": {},
   "outputs": [
    {
     "name": "stdout",
     "output_type": "stream",
     "text": [
      "Периметр треугольника:  8\n"
     ]
    }
   ],
   "source": [
    "a = [3, 3, 6, 2]\n",
    "a.sort(), a.reverse()\n",
    "j = 0\n",
    "while True:\n",
    "    a_1 = a[j]\n",
    "    a_2 = a[j + 1]\n",
    "    try:\n",
    "        if a_1 + a_2 > a[j + 2] and a_2 + a[j + 2] > a_1 and a_1 + a[j + 2] > a_2:\n",
    "            a_3 = a[j + 2]\n",
    "            print(\"Периметр треугольника: \", a_1 + a_2 + a_3)\n",
    "            break\n",
    "    except IndexError:\n",
    "        print(\"Невозможно найти периметр\")\n",
    "        break\n",
    "    j+=1"
   ]
  },
  {
   "cell_type": "code",
   "execution_count": 4,
   "id": "noted-desktop",
   "metadata": {},
   "outputs": [],
   "source": [
    "## Задача 2. «Максимальное число»"
   ]
  },
  {
   "cell_type": "code",
   "execution_count": 5,
   "id": "compound-arnold",
   "metadata": {},
   "outputs": [
    {
     "name": "stdout",
     "output_type": "stream",
     "text": [
      "9534330\n"
     ]
    }
   ],
   "source": [
    "# Исходный массив\n",
    "nums = [3, 30, 34, 5, 9]\n",
    "# Вычисляем длину максимального элемента\n",
    "max_len = len(str(max(nums)))\n",
    "# Переводим все элементы массива в строковый тип\n",
    "nums = [str(i) for i in nums]\n",
    "# Функция повторяет последнюю цифру, пока число не станет таким же длинным, как самое длинное в списке\n",
    "def change_elem(s):\n",
    "    return s + s[-1] * (max_len - len(s))\n",
    "# Отсортированный массив\n",
    "sort_list = sorted(nums, key=change_elem, reverse=True)\n",
    "# Вывод результата\n",
    "print(''.join(sort_list))"
   ]
  },
  {
   "cell_type": "code",
   "execution_count": 6,
   "id": "posted-makeup",
   "metadata": {},
   "outputs": [],
   "source": [
    "## Задача 3. «Сортировка диагоналей в матрице»"
   ]
  },
  {
   "cell_type": "code",
   "execution_count": 7,
   "id": "altered-solomon",
   "metadata": {},
   "outputs": [
    {
     "name": "stdout",
     "output_type": "stream",
     "text": [
      "Исходная матрица: \n",
      "[11, 25, 66, 1, 69, 7]\n",
      "[23, 55, 17, 45, 15, 52]\n",
      "[75, 31, 36, 44, 58, 8]\n",
      "[22, 27, 33, 25, 68, 4]\n",
      "[84, 28, 14, 11, 5, 50]\n",
      "Отсортированная матрица: \n",
      "[5, 17, 4, 1, 52, 7]\n",
      "[11, 11, 25, 45, 8, 69]\n",
      "[14, 23, 25, 44, 58, 15]\n",
      "[22, 27, 31, 36, 50, 66]\n",
      "[84, 28, 75, 33, 55, 68]\n"
     ]
    }
   ],
   "source": [
    "# mat = [[3, 3, 1, 1], [2, 2, 1, 2], [1, 1, 1, 2]]\n",
    "mat = [[11, 25, 66, 1, 69, 7], [23, 55, 17, 45, 15, 52], [75, 31, 36,\n",
    "44, 58, 8], [22, 27, 33, 25, 68, 4], [84, 28, 14, 11, 5, 50]]\n",
    "# ================================================================================= #\n",
    "print(\"Исходная матрица: \")\n",
    "for row in mat:\n",
    "    print(row)\n",
    "# ================================================================================= #\n",
    "m = len(mat[0])\n",
    "n = len(mat)\n",
    "# ================================================================================= #\n",
    "while True:\n",
    "    c = 0\n",
    "    for i in range(n):\n",
    "        for j in range(m):\n",
    "            try:\n",
    "                if mat[i][j] > mat[i + 1][j + 1]:\n",
    "                    c = 1\n",
    "                    mat[i][j], mat[i + 1][j + 1] = mat[i + 1][j + 1], mat[i][j]\n",
    "            except:\n",
    "                continue\n",
    "    # Если изменений не было, выходим из цикла\n",
    "    if c == 0:\n",
    "        break\n",
    "# ================================================================================= #\n",
    "print(\"Отсортированная матрица: \")\n",
    "for row in mat:\n",
    "    print(row)\n",
    "# ================================================================================= #"
   ]
  },
  {
   "cell_type": "code",
   "execution_count": null,
   "id": "tracked-advantage",
   "metadata": {},
   "outputs": [],
   "source": []
  }
 ],
 "metadata": {
  "kernelspec": {
   "display_name": "Python 3",
   "language": "python",
   "name": "python3"
  },
  "language_info": {
   "codemirror_mode": {
    "name": "ipython",
    "version": 3
   },
   "file_extension": ".py",
   "mimetype": "text/x-python",
   "name": "python",
   "nbconvert_exporter": "python",
   "pygments_lexer": "ipython3",
   "version": "3.8.3"
  }
 },
 "nbformat": 4,
 "nbformat_minor": 5
}
