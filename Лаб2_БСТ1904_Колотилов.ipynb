{
 "cells": [
  {
   "cell_type": "markdown",
   "id": "resistant-saskatchewan",
   "metadata": {},
   "source": [
    "# Лабораторная работа 2. Методы поиска.\n",
    "    Выполнил: Колотилов Д.А.\n",
    "    Группа: БСТ1904\n",
    "## Задание 1\n",
    "Реализовать методы поиска в соответствии с заданием. Организовать генерацию начального набора случайных данных. Оценить время работы каждого алгоритма поиска и сравнить его со временем работы стандартной функции поиска, используемой в выбранном языке программирования.\n",
    "### Методы  поиска:\n",
    "- Бинарный поиск\n",
    "- Фибоначчиев поиск\n",
    "- Интерполяционный поиск\n",
    "- Бинарное дерево"
   ]
  },
  {
   "cell_type": "markdown",
   "id": "following-lawyer",
   "metadata": {},
   "source": [
    "### Генератор массива"
   ]
  },
  {
   "cell_type": "code",
   "execution_count": 1,
   "id": "lucky-broadway",
   "metadata": {},
   "outputs": [],
   "source": [
    "import random\n",
    "n = 10\n",
    "array = [random.randint(-250, 250) for i in range(n)]\n",
    "array.sort()"
   ]
  },
  {
   "cell_type": "markdown",
   "id": "seasonal-member",
   "metadata": {},
   "source": [
    "### Бинарный поиск"
   ]
  },
  {
   "cell_type": "code",
   "execution_count": 2,
   "id": "impressive-blade",
   "metadata": {},
   "outputs": [],
   "source": [
    "def binarySearch(arr, key):\n",
    "    low = 0 # верхняя граница\n",
    "    high = len(arr)-1 # нижняя граница\n",
    "    while low <= high:\n",
    "        middle = (low + high) // 2\n",
    "        if arr[middle] == key:\n",
    "            return middle\n",
    "        else:\n",
    "            if arr[middle] > key:\n",
    "                high = middle - 1\n",
    "            else: \n",
    "                low = middle + 1\n",
    "    return -1\n",
    "\n",
    "def binarySearch_add(arr, key):\n",
    "    index = binarySearch(arr, key)\n",
    "    if index != -1  and arr[index] == key:\n",
    "        print(\"Такой элемент уже есть\")\n",
    "    else: \n",
    "        i = len(arr)\n",
    "        while i:\n",
    "            if key < arr[0]:\n",
    "                arr.insert(0, key)\n",
    "                  \n",
    "            if key > arr[-1]:\n",
    "                arr.insert(len(arr), key)\n",
    "                 \n",
    "            if key > arr[i] and key < arr[i + 1]:\n",
    "                arr.insert(i + 1, key)\n",
    "                \n",
    "            i -= 1\n",
    "            \n",
    "    return arr\n",
    "\n",
    "def binarySearch_delete(arr, key):\n",
    "    index = binarySearch(arr, key)\n",
    "    if index == -1:\n",
    "        print(\"Такой элемент уже есть\")\n",
    "    else: \n",
    "        arr.pop(index)\n",
    "    return arr"
   ]
  },
  {
   "cell_type": "markdown",
   "id": "permanent-azerbaijan",
   "metadata": {},
   "source": [
    "### Тестирование бинарного поиска"
   ]
  },
  {
   "cell_type": "code",
   "execution_count": 3,
   "id": "individual-melissa",
   "metadata": {},
   "outputs": [
    {
     "name": "stdout",
     "output_type": "stream",
     "text": [
      "[-216, -61, -52, -45, -12, 4, 10, 166, 174, 243]\n"
     ]
    }
   ],
   "source": [
    "print(array)"
   ]
  },
  {
   "cell_type": "code",
   "execution_count": 4,
   "id": "chinese-robinson",
   "metadata": {},
   "outputs": [
    {
     "name": "stdout",
     "output_type": "stream",
     "text": [
      "-1\n"
     ]
    }
   ],
   "source": [
    "result = binarySearch(array, 5)\n",
    "print(result)"
   ]
  },
  {
   "cell_type": "code",
   "execution_count": 5,
   "id": "effective-organic",
   "metadata": {},
   "outputs": [
    {
     "name": "stdout",
     "output_type": "stream",
     "text": [
      "[-500, -216, -61, -52, -45, -12, 4, 10, 166, 174, 243]\n"
     ]
    }
   ],
   "source": [
    "array = binarySearch_add(array, -500)\n",
    "print(array)"
   ]
  },
  {
   "cell_type": "code",
   "execution_count": 6,
   "id": "celtic-strategy",
   "metadata": {},
   "outputs": [
    {
     "name": "stdout",
     "output_type": "stream",
     "text": [
      "[-216, -61, -52, -45, -12, 4, 10, 166, 174, 243]\n"
     ]
    }
   ],
   "source": [
    "array = binarySearch_delete(array, -500)\n",
    "print(array)"
   ]
  },
  {
   "cell_type": "markdown",
   "id": "upset-drink",
   "metadata": {},
   "source": [
    "### Поиск Фибоначчи"
   ]
  },
  {
   "cell_type": "code",
   "execution_count": 7,
   "id": "surprising-terrorist",
   "metadata": {},
   "outputs": [],
   "source": [
    "def fibonacciSearch(arr,key):\n",
    "    fib1 = 0\n",
    "    fib2 = 1\n",
    "    sum_fibs = 0\n",
    "    # Пока числа фибоначчи не выходят за пределы массива и пока ключ больше элемента в массиве\n",
    "    while sum_fibs < len(arr) and key >= arr[sum_fibs]:\n",
    "        if arr[sum_fibs] == key:\n",
    "            return sum_fibs\n",
    "        sum_fibs = fib1 + fib2\n",
    "        fib1 = fib2\n",
    "        fib2 = sum_fibs\n",
    "        \n",
    "    if sum_fibs == fib1:\n",
    "        return None\n",
    "    \n",
    "    # Если число фибоначчи выходит за границы массива \n",
    "    # то верхней границей для промежутка становится индекс последнего элемента\n",
    "    if sum_fibs > len(arr):\n",
    "        sum_fibs = len(arr)\n",
    "    i = 0\n",
    "\n",
    "    j = fib1 + 1\n",
    "    newArr = [0] * (sum_fibs - fib1 - 1)\n",
    "    \n",
    "    while j > fib1 and j < sum_fibs:       \n",
    "        newArr[i] = arr[j]\n",
    "        j += 1\n",
    "        i += 1\n",
    "        \n",
    "    # Вызов функции для нового отрезка\n",
    "    index = fibonacciSearch(newArr, key)\n",
    "    if index: return index    \n",
    "\n",
    "# Функция добавления нового элемента\n",
    "def fibonacciSearch_add(array, element):\n",
    "    index = fibonacciSearch(array, element)\n",
    "    if index != None and array[index] == element:\n",
    "        print(\"Элемент существует\")\n",
    "    else: \n",
    "        i = 0\n",
    "        while i < len(array):\n",
    "            if element < array[0]:\n",
    "                array.insert(0, element) \n",
    "                \n",
    "            if element > array[len(array) - 1]:\n",
    "                array.insert(len(array), element)\n",
    "                \n",
    "            if element > array[i] and element < array[i + 1]:\n",
    "                array.insert(i + 1, element)\n",
    "            i += 1\n",
    "    return array\n",
    "\n",
    "# Функция удаления элемента\n",
    "def fibonacciSearch_del(array, element):\n",
    "    index = fibonacciSearch(array, element)\n",
    "    if index:\n",
    "        for m in range(len(array)):\n",
    "            if element == array[m]:\n",
    "                array.pop(m)\n",
    "                return array\n",
    "        \n",
    "    else:\n",
    "        print(\"Элемента не существует\")\n",
    "        \n",
    "    return array"
   ]
  },
  {
   "cell_type": "markdown",
   "id": "lonely-reading",
   "metadata": {},
   "source": [
    "### Тестирование поиска Фибоначчи"
   ]
  },
  {
   "cell_type": "code",
   "execution_count": 8,
   "id": "packed-motor",
   "metadata": {},
   "outputs": [
    {
     "name": "stdout",
     "output_type": "stream",
     "text": [
      "[-216, -61, -52, -45, -12, 4, 10, 166, 174, 243]\n"
     ]
    }
   ],
   "source": [
    "print(array)"
   ]
  },
  {
   "cell_type": "code",
   "execution_count": 9,
   "id": "worst-found",
   "metadata": {},
   "outputs": [
    {
     "name": "stdout",
     "output_type": "stream",
     "text": [
      "[-216, -61, -52, -45, -12, 4, 10, 166, 174, 243]\n",
      "None\n"
     ]
    }
   ],
   "source": [
    "print(array)\n",
    "n = fibonacciSearch(array, 250)\n",
    "print(n)"
   ]
  },
  {
   "cell_type": "code",
   "execution_count": 10,
   "id": "colonial-standing",
   "metadata": {},
   "outputs": [
    {
     "name": "stdout",
     "output_type": "stream",
     "text": [
      "Элемента не существует\n",
      "[-216, -61, -52, -45, -12, 4, 10, 166, 174, 243]\n"
     ]
    }
   ],
   "source": [
    "array = fibonacciSearch_del(array, 192)\n",
    "print(array)"
   ]
  },
  {
   "cell_type": "code",
   "execution_count": 11,
   "id": "north-tenant",
   "metadata": {},
   "outputs": [
    {
     "name": "stdout",
     "output_type": "stream",
     "text": [
      "[-216, -61, -52, -45, -12, 4, 10, 17, 166, 174, 243]\n"
     ]
    }
   ],
   "source": [
    "array = fibonacciSearch_add(array, 17)\n",
    "print(array)"
   ]
  },
  {
   "cell_type": "markdown",
   "id": "naval-commons",
   "metadata": {},
   "source": [
    "### Интерполяционный поиск"
   ]
  },
  {
   "cell_type": "code",
   "execution_count": 12,
   "id": "separate-premium",
   "metadata": {},
   "outputs": [],
   "source": [
    "# Функция поиска\n",
    "def interpolationSearch(arr, element):\n",
    "    low = 0\n",
    "    high = len(arr) - 1\n",
    "    search_res = False\n",
    "\n",
    "    while (low <= high and element >= arr[low]) and element <= arr[high] and not search_res:\n",
    "        middle = low + int(((high - low) / (arr[high] - arr[low])) * (element - arr[low]))\n",
    "        guess = arr[middle]\n",
    "        if guess == element:\n",
    "            search_res = arr.index(guess)\n",
    "        if guess < element:\n",
    "            low = middle + 1\n",
    "        else:\n",
    "            high = middle - 1\n",
    "            \n",
    "    if search_res is False:\n",
    "        return None\n",
    "    else:\n",
    "        return search_res\n",
    "\n",
    "# Функция добавления элемента\n",
    "def interpolationSearch_add(arr, element):\n",
    "    index = interpolationSearch(arr, element)\n",
    "    if index != None and arr[index] == element:\n",
    "        print(\"Такой элемент уже существует\")\n",
    "    else: \n",
    "        i = len(arr)\n",
    "        while i:\n",
    "\n",
    "            if element < arr[0]:\n",
    "                arr.insert(0, element)\n",
    "\n",
    "            if element > arr[len(arr) - 1]:\n",
    "                arr.insert(len(arr), element)\n",
    "  \n",
    "            if element > arr[i] and element < arr[i + 1]:\n",
    "                arr.insert(i + 1, element)\n",
    "            \n",
    "            i -= 1\n",
    "    return arr\n",
    "\n",
    "# Функция удаления элемента\n",
    "def interpolationSearch_delete(arr,key):\n",
    "    index = interpolationSearch(arr,key)\n",
    "    if index == None:\n",
    "        print(\"Такой элемент не существует\")\n",
    "    else: \n",
    "        arr.pop(index)\n",
    "    return arr\n"
   ]
  },
  {
   "cell_type": "markdown",
   "id": "environmental-dragon",
   "metadata": {},
   "source": [
    "### Тестирование интерполяционного поиска"
   ]
  },
  {
   "cell_type": "code",
   "execution_count": 13,
   "id": "brutal-question",
   "metadata": {},
   "outputs": [
    {
     "name": "stdout",
     "output_type": "stream",
     "text": [
      "[-216, -61, -52, -45, -12, 4, 10, 17, 166, 174, 243]\n"
     ]
    }
   ],
   "source": [
    "print(array)"
   ]
  },
  {
   "cell_type": "code",
   "execution_count": 14,
   "id": "square-mother",
   "metadata": {},
   "outputs": [
    {
     "name": "stdout",
     "output_type": "stream",
     "text": [
      "None\n"
     ]
    }
   ],
   "source": [
    "p = interpolationSearch(array, -88)\n",
    "print(p)"
   ]
  },
  {
   "cell_type": "code",
   "execution_count": 15,
   "id": "provincial-governor",
   "metadata": {},
   "outputs": [
    {
     "name": "stdout",
     "output_type": "stream",
     "text": [
      "[-216, -61, -52, -45, -12, 4, 10, 17, 166, 174, 243, 250]\n"
     ]
    }
   ],
   "source": [
    "array = interpolationSearch_add(array, 250)\n",
    "print(array)"
   ]
  },
  {
   "cell_type": "code",
   "execution_count": 16,
   "id": "intellectual-louis",
   "metadata": {},
   "outputs": [
    {
     "name": "stdout",
     "output_type": "stream",
     "text": [
      "Такой элемент не существует\n",
      "[-216, -61, -52, -45, -12, 4, 10, 17, 166, 174, 243, 250]\n"
     ]
    }
   ],
   "source": [
    "array = interpolationSearch_delete(array, -3)\n",
    "print(array)"
   ]
  },
  {
   "cell_type": "markdown",
   "id": "egyptian-doctor",
   "metadata": {},
   "source": [
    "### Бинарное дерево"
   ]
  },
  {
   "cell_type": "code",
   "execution_count": 17,
   "id": "balanced-civilization",
   "metadata": {},
   "outputs": [],
   "source": [
    "class Node:\n",
    "    # Конструктор бинарного дерева\n",
    "    def __init__(self, key):\n",
    "        # Создаем корневой элемент\n",
    "        self.key = key\n",
    "        # Корневые элементы левой и правой ветки\n",
    "        self.left = self.right = None\n",
    "           \n",
    "    def addItem(self, key):\n",
    "        # Если значение в узле существует\n",
    "        if self.key:\n",
    "            # Если ключ меньше значения в узле добавляем его в левую ветку\n",
    "            if key < self.key:\n",
    "                # Создаем новый узел, если ветка пустая\n",
    "                if self.left is None:\n",
    "                    self.left = Node(key)\n",
    "                # Иначе добавляем элемент в эту ветку\n",
    "                else:\n",
    "                    self.left.addItem(key)\n",
    "            # Иначе, если больше или равен значению в узле, добавляем в правую ветку\n",
    "            elif key >= self.key:\n",
    "                # Создаем новый узел, если ветка пустая\n",
    "                if self.right is None:\n",
    "                    self.right = Node(key)\n",
    "                # Иначе добавляем элемент в эту ветку\n",
    "                else:\n",
    "                    self.right.addItem(key)\n",
    "        else:\n",
    "            self.key = key\n",
    "            \n",
    "    # Метод отображения дерева с помощью рекурсии\n",
    "    def showItems(self):\n",
    "\n",
    "        if self.left:\n",
    "            self.left.showItems()\n",
    "            \n",
    "        print(self.key)\n",
    "\n",
    "        if self.right:\n",
    "            self.right.showItems()\n",
    "    \n",
    "    def searchItem(self, key):\n",
    "        if self.key:\n",
    "            # Элемент сразу найден, если совпадает со значением в корне\n",
    "            if self.key == key:\n",
    "                print(\"Элемент обнаружен\")\n",
    "                return\n",
    "            # Если элемент меньше корня, то ищем в левой ветке\n",
    "            if key < self.key:\n",
    "                # Ветка пустая -> элемента в ней нет -> сообщаем об этом -> выходим из поиска\n",
    "                if self.left is None:\n",
    "                    print(\"Элемент не обнаружен\")\n",
    "                    return\n",
    "                # Иначе -> ищем этот элемент в левой ветке\n",
    "                self.left.searchItem(key)\n",
    "            # Иначе, ищем в правой ветке\n",
    "            else:\n",
    "                # Ветка пустая -> элемента в ней нет -> сообщаем об этом -> выходим из поиска\n",
    "                if self.right is None:\n",
    "                    print(\"Элемент не обнаружен\")\n",
    "                    return\n",
    "                # Иначе -> ищем этот элемент в правой ветке\n",
    "                self.right.searchItem(key)\n",
    "        else:\n",
    "            print(\"Дерево является пустым\")\n",
    "            \n",
    "    def minValueNode(self, x):\n",
    "        if x.left is None:\n",
    "            return x\n",
    "        return minValueNode(x.left)\n",
    "    \n",
    "\n",
    "    def deleteItem(self, key):\n",
    "        if self is None:\n",
    "            return self\n",
    "        \n",
    "        if key < self.key:\n",
    "            self.left = self.left.deleteItem(key)\n",
    "            \n",
    "        elif(key > self.key):\n",
    "            self.right = self.right.deleteItem(key)\n",
    "            \n",
    "        else:\n",
    "            if self.left is not None and self.right is not None:\n",
    "                self.key = self.minValueNode(self.right).key\n",
    "                self.right = self.right.deleteItem(self.key)\n",
    "\n",
    "            else:\n",
    "                if self.left is not None:\n",
    "                    self = self.left\n",
    "                elif self.right is not None:\n",
    "                    self = self.right\n",
    "                else:\n",
    "                    self = None\n",
    "            \n",
    "        return self"
   ]
  },
  {
   "cell_type": "markdown",
   "id": "backed-killer",
   "metadata": {},
   "source": [
    "### Тестирование бинарного дерева"
   ]
  },
  {
   "cell_type": "code",
   "execution_count": 18,
   "id": "former-local",
   "metadata": {},
   "outputs": [
    {
     "name": "stdout",
     "output_type": "stream",
     "text": [
      "==========================\n",
      "-20\n",
      "4\n",
      "5\n",
      "7\n",
      "9\n",
      "33\n",
      "==========================\n",
      "Элемент обнаружен\n",
      "==========================\n",
      "-20\n",
      "4\n",
      "5\n",
      "7\n",
      "9\n",
      "33\n",
      "==========================\n",
      "4\n",
      "9\n",
      "33\n"
     ]
    }
   ],
   "source": [
    "# Создаем дерево, указываем корень\n",
    "Tree = Node(7)\n",
    "# Добавляем ветки\n",
    "Tree.addItem(5)\n",
    "Tree.addItem(9)\n",
    "Tree.addItem(4)\n",
    "Tree.addItem(-20)\n",
    "Tree.addItem(33)\n",
    "print(\"==========================\")\n",
    "# Вывод дерева\n",
    "Tree.showItems()\n",
    "print(\"==========================\")\n",
    "# Поиск элемента\n",
    "Tree.searchItem(5)\n",
    "print(\"==========================\")\n",
    "# Вывод дерева\n",
    "Tree.showItems()\n",
    "print(\"==========================\")\n",
    "# Удаление элемента\n",
    "Tree.deleteItem(5)\n",
    "Tree.deleteItem(7)\n",
    "Tree.deleteItem(-20)\n",
    "# Вывод дерева\n",
    "Tree.showItems()"
   ]
  },
  {
   "cell_type": "markdown",
   "id": "christian-insertion",
   "metadata": {},
   "source": [
    "## Задание 2\n",
    "### Методы  рехэширования:\n",
    "- Простое рехэширование\n",
    "- Рехэширование с помощью  псевдослучайных чисел \n",
    "- Метод цепочек"
   ]
  },
  {
   "cell_type": "markdown",
   "id": "wireless-moore",
   "metadata": {},
   "source": [
    "### Простое рехеширование"
   ]
  },
  {
   "cell_type": "code",
   "execution_count": 19,
   "id": "forward-institution",
   "metadata": {},
   "outputs": [],
   "source": [
    "class HashMap:\n",
    "    def __init__(self):\n",
    "        self.size = 0\n",
    "        self.data = []\n",
    "        self._resize()\n",
    "    \n",
    "    def _hash(self, key, i):\n",
    "        return (hash(key) + i) % len(self.data)\n",
    "        \n",
    "    def _find(self, key):\n",
    "        i = 0;\n",
    "        index = self._hash(key, i);\n",
    "        while self.data[index] is not None and self.data[index][0] != key:\n",
    "            i += 1\n",
    "            index = self._hash(key, i);\n",
    "        return index;\n",
    "    \n",
    "    def _resize(self):\n",
    "        temp = self.data\n",
    "        self.data = [None] * (2*len(self.data) + 1)\n",
    "        for item in temp:\n",
    "            if item is not None:\n",
    "                self.data[self._find(item[0])] = item\n",
    "    \n",
    "    def __setitem__(self, key, value):\n",
    "        if self.size + 1 > len(self.data) // 2:\n",
    "            self._resize()\n",
    "        index = self._find(key)\n",
    "        if self.data[index] is None:  \n",
    "            self.size += 1\n",
    "        self.data[index] = (key, value)\n",
    "    \n",
    "    def __getitem__(self, key):\n",
    "        index = self._find(key)\n",
    "        if self.data[index] is not None:\n",
    "            return self.data[index][1]\n",
    "        raise KeyError()"
   ]
  },
  {
   "cell_type": "markdown",
   "id": "limited-emphasis",
   "metadata": {},
   "source": [
    "### Рехеширование с помощью псевдослучайных чисел"
   ]
  },
  {
   "cell_type": "code",
   "execution_count": 20,
   "id": "challenging-click",
   "metadata": {},
   "outputs": [],
   "source": [
    "class RandomHashMap(HashMap):\n",
    "    _rand_c = [5323]\n",
    "    \n",
    "    def _rand(self, i):\n",
    "        if len(self._rand_c) - 1 < i:\n",
    "            self._rand_c.append(self._rand(i - 1))\n",
    "        return (123456789 * self._rand_c[i] + 987654321) % 65546\n",
    "    \n",
    "    def _hash(self, key, i):\n",
    "        return (hash(key) + self._rand(i)) % len(self.data)"
   ]
  },
  {
   "cell_type": "markdown",
   "id": "allied-glucose",
   "metadata": {},
   "source": [
    "### Метод цепочек"
   ]
  },
  {
   "cell_type": "code",
   "execution_count": 21,
   "id": "refined-guyana",
   "metadata": {},
   "outputs": [],
   "source": [
    "class ChainMethod:\n",
    "    def __init__(self):\n",
    "        self.size = 0\n",
    "        self.data = [None]*64\n",
    "    \n",
    "    def _insert(self, index, item):\n",
    "        if self.data[index] is None:\n",
    "            self.data[index] = [item]\n",
    "            print(\"Элемент добавлен\")\n",
    "            return 2\n",
    "        else:\n",
    "            for i, item_ in enumerate(self.data[index]):\n",
    "                if item_[0] == item:\n",
    "                    self.data[index][i] = item\n",
    "                    print(\"Элемент не добавлен\")\n",
    "                    return 3\n",
    "            self.data[index].append(item)\n",
    "            print(\"Элемент добавлен\")\n",
    "            return 2\n",
    "    \n",
    "    def searchChain(self, index, item):\n",
    "        if self.data[index] is not None:\n",
    "            if self.data[index] == [item]:\n",
    "                print(\"Элемент найден\")\n",
    "                return 1\n",
    "            else:\n",
    "                for i, item_ in enumerate(self.data[index]):\n",
    "                    if self.data[index][i] == item:\n",
    "                        print(\"Элемент найден\")\n",
    "                        return 1\n",
    "        else:\n",
    "            print(\"Элемент не найден\")\n",
    "            return 0\n",
    "        \n",
    "    def deleteChain(self, index,item):\n",
    "        if self.data[index] is not None:\n",
    "            if self.data[index] == [item]:\n",
    "                self.data[index] = None\n",
    "                print(\"Элемент удален\")\n",
    "                return 1\n",
    "            else:\n",
    "                for i, item_ in enumerate(self.data[index]):\n",
    "                    if self.data[index][i] == item:\n",
    "                        self.data[index].pop(i)\n",
    "                        print(\"Элемент удален\")\n",
    "                        return 1\n",
    "        else:\n",
    "\n",
    "            return 0"
   ]
  },
  {
   "cell_type": "markdown",
   "id": "apart-facility",
   "metadata": {},
   "source": [
    "## Задание 3 (8 ферзей)"
   ]
  },
  {
   "cell_type": "code",
   "execution_count": null,
   "id": "satisfied-terrain",
   "metadata": {},
   "outputs": [],
   "source": [
    "# Проверка ячейки\n",
    "def checkCell(row, column, rows):\n",
    "    row_copy = row\n",
    "    col_copy = column\n",
    "    #В столбце\n",
    "    for k in range(row):\n",
    "        if rows[k] == column:\n",
    "            return 0\n",
    "    # В главной диагонали   \n",
    "    while row >= 0 and column >= 0:\n",
    "        if rows[row] == column:\n",
    "            return 0\n",
    "        row -= 1\n",
    "        column -= 1\n",
    "    # В побочной диагонали   \n",
    "    while row_copy >= 0 and col_copy <= 9:\n",
    "        if rows[row_copy] == col_copy:\n",
    "            return 0\n",
    "        row_copy -= 1\n",
    "        col_copy += 1\n",
    "    return 1"
   ]
  },
  {
   "cell_type": "code",
   "execution_count": null,
   "id": "aggregate-portland",
   "metadata": {},
   "outputs": [],
   "source": [
    "def findQueens(rows = [0]*10, row = 0):\n",
    "    if row == 10:\n",
    "        arr = [[0] * 10 for i in range(10)]\n",
    "        for row, column in enumerate(rows):\n",
    "            arr[row][column] = 1    \n",
    "        return arr\n",
    "    else:\n",
    "        for column in range(10):\n",
    "            if checkCell(row, column, rows):\n",
    "                rows[row] = column\n",
    "                chessBoard = findQueens(rows, row + 1)\n",
    "                \n",
    "                if chessBoard: return chessBoard\n",
    "findQueens()"
   ]
  },
  {
   "cell_type": "markdown",
   "id": "anonymous-jenny",
   "metadata": {},
   "source": [
    "# Вывод\n",
    "В данной лабораторной работе я узнал о методах поиска, методах рехеширования, об их структуре, принципе действий и реализации."
   ]
  }
 ],
 "metadata": {
  "celltoolbar": "Необработанный формат ячейки",
  "kernelspec": {
   "display_name": "Python 3",
   "language": "python",
   "name": "python3"
  },
  "language_info": {
   "codemirror_mode": {
    "name": "ipython",
    "version": 3
   },
   "file_extension": ".py",
   "mimetype": "text/x-python",
   "name": "python",
   "nbconvert_exporter": "python",
   "pygments_lexer": "ipython3",
   "version": "3.8.3"
  }
 },
 "nbformat": 4,
 "nbformat_minor": 5
}
